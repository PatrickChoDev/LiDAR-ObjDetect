{
 "metadata": {
  "language_info": {
   "codemirror_mode": {
    "name": "ipython",
    "version": 3
   },
   "file_extension": ".py",
   "mimetype": "text/x-python",
   "name": "python",
   "nbconvert_exporter": "python",
   "pygments_lexer": "ipython3",
   "version": "3.8.10"
  },
  "orig_nbformat": 4,
  "kernelspec": {
   "name": "python3",
   "display_name": "Python 3.8.10 64-bit ('venv': venv)"
  },
  "interpreter": {
   "hash": "3da6036df169f358657ffc2db8e1b2c88b1801618de9f24fc7f2766e74aaf40f"
  }
 },
 "nbformat": 4,
 "nbformat_minor": 2,
 "cells": [
  {
   "cell_type": "code",
   "execution_count": 2,
   "metadata": {},
   "outputs": [],
   "source": [
    "from util import get_label,plot_point\n",
    "import numpy as np"
   ]
  },
  {
   "cell_type": "code",
   "execution_count": 3,
   "metadata": {},
   "outputs": [],
   "source": [
    "from box2cloud import visualize"
   ]
  },
  {
   "cell_type": "code",
   "execution_count": 5,
   "metadata": {},
   "outputs": [],
   "source": [
    "idx = '007101'\n",
    "a = np.reshape(np.fromfile(f\"/home/patrick/Workspaces/LiDAR-Obj/dataset/training/velodyne_reduced/{idx}.bin\", \"<f4\"),\n",
    "            (-1, 4)\n",
    "        )[...,:3]\n",
    "points = a.T\n",
    "x,y,z = points\n",
    "index = np.intersect1d(np.where(abs(x)<=60),np.where(np.logical_and(y<=60,y>=-60)))\n",
    "index = np.intersect1d(np.where(np.logical_and(z<=3,z>=-3)),index)\n",
    "b = points.T[index]\n",
    "visualize(b,f'/home/patrick/Workspaces/LiDAR-Obj/dataset/training/label_2/{idx}.txt')"
   ]
  },
  {
   "cell_type": "code",
   "execution_count": null,
   "metadata": {},
   "outputs": [],
   "source": []
  }
 ]
}